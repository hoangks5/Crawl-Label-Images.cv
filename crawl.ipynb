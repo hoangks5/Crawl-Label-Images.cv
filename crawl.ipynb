{
 "cells": [
  {
   "cell_type": "code",
   "execution_count": 1,
   "metadata": {},
   "outputs": [],
   "source": [
    "import time\n",
    "from selenium import webdriver\n",
    "from selenium.webdriver.common.keys import Keys\n",
    "from selenium.webdriver.common.by import By\n",
    "from selenium.common.exceptions import ElementNotVisibleException, StaleElementReferenceException\n",
    "import platform\n",
    "from selenium.webdriver.support.ui import WebDriverWait\n",
    "from selenium.webdriver.support import expected_conditions as EC\n",
    "from selenium.webdriver.chrome.options import Options\n",
    "from webdriver_manager.chrome import ChromeDriverManager\n",
    "import os.path as osp\n",
    "import os"
   ]
  },
  {
   "cell_type": "code",
   "execution_count": 2,
   "metadata": {},
   "outputs": [],
   "source": [
    "def create_browser(no_gui=False, proxy=None):\n",
    "        \n",
    "        chrome_options = Options()\n",
    "        chrome_options.add_argument('--no-sandbox')\n",
    "        chrome_options.add_argument('--disable-dev-shm-usage')\n",
    "        if no_gui:\n",
    "            chrome_options.add_argument('--headless')\n",
    "        if proxy:\n",
    "            chrome_options.add_argument(\"--proxy-server={}\".format(proxy))\n",
    "        browser = webdriver.Chrome(ChromeDriverManager().install(), chrome_options=chrome_options)\n",
    "\n",
    "        browser_version = 'Failed to detect version'\n",
    "        chromedriver_version = 'Failed to detect version'\n",
    "        major_version_different = False\n",
    "\n",
    "        if 'browserVersion' in browser.capabilities:\n",
    "            browser_version = str(browser.capabilities['browserVersion'])\n",
    "\n",
    "        if 'chrome' in browser.capabilities:\n",
    "            if 'chromedriverVersion' in browser.capabilities['chrome']:\n",
    "                chromedriver_version = str(browser.capabilities['chrome']['chromedriverVersion']).split(' ')[0]\n",
    "\n",
    "        if browser_version.split('.')[0] != chromedriver_version.split('.')[0]:\n",
    "            major_version_different = True\n",
    "        print('_________________________________')\n",
    "        print('Current web-browser version:\\t{}'.format(browser_version))\n",
    "        print('Current chrome-driver version:\\t{}'.format(chromedriver_version))\n",
    "        if major_version_different:\n",
    "            print('warning: Version different')\n",
    "            print(\n",
    "                'Download correct version at \"http://chromedriver.chromium.org/downloads\" and place in \"./chromedriver\"')\n",
    "        print('_________________________________')\n",
    "        return browser"
   ]
  },
  {
   "cell_type": "code",
   "execution_count": 3,
   "metadata": {},
   "outputs": [
    {
     "name": "stderr",
     "output_type": "stream",
     "text": [
      "/var/folders/vq/lr9jr0w132n5fxzlgyfxgg3h0000gn/T/ipykernel_3449/3757438724.py:10: DeprecationWarning: executable_path has been deprecated, please pass in a Service object\n",
      "  browser = webdriver.Chrome(ChromeDriverManager().install(), chrome_options=chrome_options)\n",
      "/var/folders/vq/lr9jr0w132n5fxzlgyfxgg3h0000gn/T/ipykernel_3449/3757438724.py:10: DeprecationWarning: use options instead of chrome_options\n",
      "  browser = webdriver.Chrome(ChromeDriverManager().install(), chrome_options=chrome_options)\n"
     ]
    },
    {
     "name": "stdout",
     "output_type": "stream",
     "text": [
      "_________________________________\n",
      "Current web-browser version:\t108.0.5359.124\n",
      "Current chrome-driver version:\t108.0.5359.71\n",
      "_________________________________\n"
     ]
    }
   ],
   "source": [
    "driver = create_browser(no_gui=False)"
   ]
  },
  {
   "cell_type": "code",
   "execution_count": 9,
   "metadata": {},
   "outputs": [
    {
     "name": "stdout",
     "output_type": "stream",
     "text": [
      "dessert spoon : https://images.cv/dataset/dessert-spoon-image-classification-dataset\n",
      "tongs : https://images.cv/dataset/tongs-image-classification-dataset\n",
      "masher : https://images.cv/dataset/masher-image-classification-dataset\n",
      "bottle opener : https://images.cv/dataset/bottle-opener-image-classification-dataset\n",
      "whisk : https://images.cv/dataset/whisk-image-classification-dataset\n",
      "soup spoon : https://images.cv/dataset/soup-spoon-image-classification-dataset\n",
      "bread knife : https://images.cv/dataset/bread-knife-image-classification-dataset\n",
      "bottle opener : https://images.cv/dataset/bottle-opener-image-classification-dataset\n",
      "fish slice : https://images.cv/dataset/fish-slice-image-classification-dataset\n",
      "tea spoon : https://images.cv/dataset/tea-spoon-image-classification-dataset\n",
      "tongs : https://images.cv/dataset/tongs-image-classification-dataset\n",
      "wooden spoon : https://images.cv/dataset/wooden-spoon-image-classification-dataset\n",
      "spatula : https://images.cv/dataset/spatula-image-classification-dataset\n",
      "soup spoon : https://images.cv/dataset/soup-spoon-image-classification-dataset\n",
      "peeler : https://images.cv/dataset/peeler-image-classification-dataset\n",
      "bread knife : https://images.cv/dataset/bread-knife-image-classification-dataset\n",
      "wooden spoon : https://images.cv/dataset/wooden-spoon-image-classification-dataset\n",
      "can opener : https://images.cv/dataset/can-opener-image-classification-dataset\n",
      "coyote : https://images.cv/dataset/coyote-image-classification-dataset\n",
      "odometer : https://images.cv/dataset/odometer-image-classification-dataset\n",
      "sewing machine : https://images.cv/dataset/sewing-machine-image-classification-dataset\n",
      "nail : https://images.cv/dataset/nail-image-classification-dataset\n",
      "proboscis monkey : https://images.cv/dataset/proboscis-monkey-image-classification-dataset\n",
      "mongoose : https://images.cv/dataset/mongoose-image-classification-dataset\n",
      "can opener : https://images.cv/dataset/can-opener-image-classification-dataset\n",
      "dishrag : https://images.cv/dataset/dishrag-image-classification-dataset\n",
      "barometer : https://images.cv/dataset/barometer-image-classification-dataset\n",
      "anemone fish : https://images.cv/dataset/anemone-fish-image-classification-dataset\n",
      "american chameleon : https://images.cv/dataset/american-chameleon-image-classification-dataset\n",
      "robin : https://images.cv/dataset/robin-image-classification-dataset\n"
     ]
    }
   ],
   "source": [
    "metadata = {'kitchen knife':'https://images.cv/dataset/kitchen-knife-image-classification-dataset'}\n",
    "labels = ['kitchen knife']\n",
    "reads = []\n",
    "\n",
    "for i in range(3):\n",
    "    process = list(set(labels) ^ set(reads))\n",
    "    for label in process:\n",
    "        driver.get(metadata[label])\n",
    "        recommend = driver.find_elements(By.XPATH,'//*[@id=\"mat-chip-list-1\"]/div/div/a')\n",
    "        for i in recommend:\n",
    "            if i.text.lower() not in label:\n",
    "                metadata[i.text.lower()] = i.get_attribute('href')\n",
    "                labels.append(i.text.lower())\n",
    "                print(i.text.lower()+' : '+i.get_attribute('href'))\n",
    "            else:\n",
    "                pass\n",
    "        reads.append(label)"
   ]
  },
  {
   "cell_type": "code",
   "execution_count": 7,
   "metadata": {},
   "outputs": [
    {
     "data": {
      "text/plain": [
       "['kitchen knife',\n",
       " 'dessert spoon',\n",
       " 'tongs',\n",
       " 'masher',\n",
       " 'bottle opener',\n",
       " 'whisk',\n",
       " 'soup spoon',\n",
       " 'bread knife',\n",
       " 'bottle opener',\n",
       " 'fish slice',\n",
       " 'tea spoon',\n",
       " 'tongs',\n",
       " 'wooden spoon',\n",
       " 'spatula',\n",
       " 'soup spoon',\n",
       " 'peeler',\n",
       " 'bread knife',\n",
       " 'wooden spoon',\n",
       " 'can opener']"
      ]
     },
     "execution_count": 7,
     "metadata": {},
     "output_type": "execute_result"
    }
   ],
   "source": [
    "labels"
   ]
  },
  {
   "cell_type": "code",
   "execution_count": 8,
   "metadata": {},
   "outputs": [
    {
     "data": {
      "text/plain": [
       "['kitchen knife',\n",
       " 'soup spoon',\n",
       " 'whisk',\n",
       " 'bottle opener',\n",
       " 'tongs',\n",
       " 'dessert spoon',\n",
       " 'masher']"
      ]
     },
     "execution_count": 8,
     "metadata": {},
     "output_type": "execute_result"
    }
   ],
   "source": [
    "reads"
   ]
  },
  {
   "cell_type": "code",
   "execution_count": null,
   "metadata": {},
   "outputs": [],
   "source": []
  }
 ],
 "metadata": {
  "kernelspec": {
   "display_name": "base",
   "language": "python",
   "name": "python3"
  },
  "language_info": {
   "codemirror_mode": {
    "name": "ipython",
    "version": 3
   },
   "file_extension": ".py",
   "mimetype": "text/x-python",
   "name": "python",
   "nbconvert_exporter": "python",
   "pygments_lexer": "ipython3",
   "version": "3.9.13"
  },
  "orig_nbformat": 4,
  "vscode": {
   "interpreter": {
    "hash": "68f3682ca8c377c25da3d8df1d5d8dc03c88f79af835cd0cb48582ebd7d77d5e"
   }
  }
 },
 "nbformat": 4,
 "nbformat_minor": 2
}
