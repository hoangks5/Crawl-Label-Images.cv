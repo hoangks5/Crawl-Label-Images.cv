{
 "cells": [
  {
   "cell_type": "code",
   "execution_count": 79,
   "metadata": {},
   "outputs": [],
   "source": [
    "import time\n",
    "from selenium import webdriver\n",
    "from selenium.webdriver.common.keys import Keys\n",
    "from selenium.webdriver.common.by import By\n",
    "from selenium.common.exceptions import ElementNotVisibleException, StaleElementReferenceException\n",
    "import platform\n",
    "from selenium.webdriver.support.ui import WebDriverWait\n",
    "from selenium.webdriver.support import expected_conditions as EC\n",
    "from selenium.webdriver.chrome.options import Options\n",
    "from webdriver_manager.chrome import ChromeDriverManager\n",
    "import os.path as osp\n",
    "import os"
   ]
  },
  {
   "cell_type": "code",
   "execution_count": 80,
   "metadata": {},
   "outputs": [],
   "source": [
    "def create_browser(no_gui=False, proxy=None):\n",
    "        \n",
    "        chrome_options = Options()\n",
    "        chrome_options.add_argument('--no-sandbox')\n",
    "        chrome_options.add_argument('--disable-dev-shm-usage')\n",
    "        if no_gui:\n",
    "            chrome_options.add_argument('--headless')\n",
    "        if proxy:\n",
    "            chrome_options.add_argument(\"--proxy-server={}\".format(proxy))\n",
    "        browser = webdriver.Chrome(ChromeDriverManager().install(), chrome_options=chrome_options)\n",
    "\n",
    "        browser_version = 'Failed to detect version'\n",
    "        chromedriver_version = 'Failed to detect version'\n",
    "        major_version_different = False\n",
    "\n",
    "        if 'browserVersion' in browser.capabilities:\n",
    "            browser_version = str(browser.capabilities['browserVersion'])\n",
    "\n",
    "        if 'chrome' in browser.capabilities:\n",
    "            if 'chromedriverVersion' in browser.capabilities['chrome']:\n",
    "                chromedriver_version = str(browser.capabilities['chrome']['chromedriverVersion']).split(' ')[0]\n",
    "\n",
    "        if browser_version.split('.')[0] != chromedriver_version.split('.')[0]:\n",
    "            major_version_different = True\n",
    "        print('_________________________________')\n",
    "        print('Current web-browser version:\\t{}'.format(browser_version))\n",
    "        print('Current chrome-driver version:\\t{}'.format(chromedriver_version))\n",
    "        if major_version_different:\n",
    "            print('warning: Version different')\n",
    "            print(\n",
    "                'Download correct version at \"http://chromedriver.chromium.org/downloads\" and place in \"./chromedriver\"')\n",
    "        print('_________________________________')\n",
    "        return browser"
   ]
  },
  {
   "cell_type": "code",
   "execution_count": 81,
   "metadata": {},
   "outputs": [
    {
     "name": "stderr",
     "output_type": "stream",
     "text": [
      "/var/folders/vq/lr9jr0w132n5fxzlgyfxgg3h0000gn/T/ipykernel_35317/3757438724.py:10: DeprecationWarning: executable_path has been deprecated, please pass in a Service object\n",
      "  browser = webdriver.Chrome(ChromeDriverManager().install(), chrome_options=chrome_options)\n",
      "/var/folders/vq/lr9jr0w132n5fxzlgyfxgg3h0000gn/T/ipykernel_35317/3757438724.py:10: DeprecationWarning: use options instead of chrome_options\n",
      "  browser = webdriver.Chrome(ChromeDriverManager().install(), chrome_options=chrome_options)\n"
     ]
    },
    {
     "name": "stdout",
     "output_type": "stream",
     "text": [
      "_________________________________\n",
      "Current web-browser version:\t108.0.5359.124\n",
      "Current chrome-driver version:\t108.0.5359.71\n",
      "_________________________________\n"
     ]
    }
   ],
   "source": [
    "driver = create_browser(no_gui=False)"
   ]
  },
  {
   "cell_type": "code",
   "execution_count": 111,
   "metadata": {},
   "outputs": [],
   "source": [
    "driver.get('https://images.cv/computer-vision-image-datasets-index')"
   ]
  },
  {
   "cell_type": "code",
   "execution_count": 112,
   "metadata": {},
   "outputs": [],
   "source": [
    "def crawl(driver,number):\n",
    "    res = []\n",
    "    for i in range(1,number,1):\n",
    "        t = driver.find_elements(By.CLASS_NAME,'mat-elevation-z4')\n",
    "        for i in t:\n",
    "            print(i.text.splitlines()[1])\n",
    "            res.append(i.text.splitlines()[1])\n",
    "            #print(i.find_element(By.CSS_SELECTOR,'a').get_attribute('href'))\n",
    "        elem = driver.find_element(By.TAG_NAME, \"body\")\n",
    "        elem.send_keys(Keys.PAGE_DOWN)\n",
    "        time.sleep(0.25)\n",
    "    return list(dict.fromkeys(res))"
   ]
  },
  {
   "cell_type": "code",
   "execution_count": 114,
   "metadata": {},
   "outputs": [
    {
     "name": "stdout",
     "output_type": "stream",
     "text": [
      "Dessert\n",
      "Egg\n",
      "Fried food\n",
      "Dairy product\n",
      "Meat\n",
      "Rice\n",
      "Seafood\n",
      "Soup\n",
      "Buildings\n",
      "Forest\n",
      "Glacier\n",
      "Mountain\n",
      "Sea\n",
      "Dessert\n",
      "Egg\n",
      "Fried food\n",
      "Dairy product\n",
      "Meat\n",
      "Rice\n",
      "Seafood\n",
      "Soup\n",
      "Buildings\n",
      "Forest\n",
      "Glacier\n",
      "Mountain\n",
      "Sea\n",
      "Dessert\n",
      "Egg\n",
      "Fried food\n",
      "Dairy product\n",
      "Meat\n",
      "Rice\n",
      "Seafood\n",
      "Soup\n",
      "Buildings\n",
      "Forest\n",
      "Glacier\n",
      "Mountain\n",
      "Sea\n",
      "Dessert\n",
      "Egg\n",
      "Fried food\n",
      "Dairy product\n",
      "Meat\n",
      "Rice\n",
      "Seafood\n",
      "Soup\n",
      "Buildings\n",
      "Forest\n",
      "Glacier\n",
      "Mountain\n",
      "Sea\n",
      "Dessert\n",
      "Egg\n",
      "Fried food\n",
      "Dairy product\n",
      "Meat\n",
      "Rice\n",
      "Seafood\n",
      "Soup\n",
      "Buildings\n",
      "Forest\n",
      "Glacier\n",
      "Mountain\n",
      "Sea\n",
      "Dessert\n",
      "Egg\n",
      "Fried food\n",
      "Dairy product\n",
      "Meat\n",
      "Rice\n",
      "Seafood\n",
      "Soup\n",
      "Buildings\n",
      "Forest\n",
      "Glacier\n",
      "Mountain\n",
      "Sea\n",
      "Dessert\n",
      "Egg\n",
      "Fried food\n",
      "Dairy product\n",
      "Meat\n",
      "Rice\n",
      "Seafood\n",
      "Soup\n",
      "Buildings\n",
      "Forest\n",
      "Glacier\n",
      "Mountain\n",
      "Sea\n",
      "Desk\n",
      "Desk chair\n",
      "Desk lamp\n",
      "File cabinet\n",
      "Printer\n",
      "Paper notebook\n",
      "Trash can\n",
      "Tape dispenser\n"
     ]
    },
    {
     "ename": "StaleElementReferenceException",
     "evalue": "Message: stale element reference: element is not attached to the page document\n  (Session info: chrome=108.0.5359.124)\nStacktrace:\n0   chromedriver                        0x0000000108206f38 chromedriver + 4910904\n1   chromedriver                        0x0000000108186a03 chromedriver + 4385283\n2   chromedriver                        0x0000000107dcb747 chromedriver + 472903\n3   chromedriver                        0x0000000107dcfd28 chromedriver + 490792\n4   chromedriver                        0x0000000107dcf9f6 chromedriver + 489974\n5   chromedriver                        0x0000000107dcfdfc chromedriver + 491004\n6   chromedriver                        0x0000000107e08ba5 chromedriver + 723877\n7   chromedriver                        0x0000000107e36112 chromedriver + 909586\n8   chromedriver                        0x0000000107e020ed chromedriver + 696557\n9   chromedriver                        0x0000000107e362ce chromedriver + 910030\n10  chromedriver                        0x0000000107e5128e chromedriver + 1020558\n11  chromedriver                        0x0000000107e35ee3 chromedriver + 909027\n12  chromedriver                        0x0000000107e0030c chromedriver + 688908\n13  chromedriver                        0x0000000107e0188e chromedriver + 694414\n14  chromedriver                        0x00000001081d41de chromedriver + 4702686\n15  chromedriver                        0x00000001081d8b19 chromedriver + 4721433\n16  chromedriver                        0x00000001081e028e chromedriver + 4752014\n17  chromedriver                        0x00000001081d991a chromedriver + 4725018\n18  chromedriver                        0x00000001081adb02 chromedriver + 4545282\n19  chromedriver                        0x00000001081f8888 chromedriver + 4851848\n20  chromedriver                        0x00000001081f8a05 chromedriver + 4852229\n21  chromedriver                        0x000000010820ee5f chromedriver + 4943455\n22  libsystem_pthread.dylib             0x00007ff8194bf259 _pthread_start + 125\n23  libsystem_pthread.dylib             0x00007ff8194bac7b thread_start + 15\n",
     "output_type": "error",
     "traceback": [
      "\u001b[0;31m---------------------------------------------------------------------------\u001b[0m",
      "\u001b[0;31mStaleElementReferenceException\u001b[0m            Traceback (most recent call last)",
      "\u001b[0;32m/var/folders/vq/lr9jr0w132n5fxzlgyfxgg3h0000gn/T/ipykernel_35317/132124963.py\u001b[0m in \u001b[0;36m<module>\u001b[0;34m\u001b[0m\n\u001b[0;32m----> 1\u001b[0;31m \u001b[0mres\u001b[0m \u001b[0;34m=\u001b[0m \u001b[0mcrawl\u001b[0m\u001b[0;34m(\u001b[0m\u001b[0mdriver\u001b[0m\u001b[0;34m,\u001b[0m\u001b[0;36m300\u001b[0m\u001b[0;34m)\u001b[0m\u001b[0;34m\u001b[0m\u001b[0;34m\u001b[0m\u001b[0m\n\u001b[0m",
      "\u001b[0;32m/var/folders/vq/lr9jr0w132n5fxzlgyfxgg3h0000gn/T/ipykernel_35317/2798383405.py\u001b[0m in \u001b[0;36mcrawl\u001b[0;34m(driver, number)\u001b[0m\n\u001b[1;32m      5\u001b[0m         \u001b[0;32mfor\u001b[0m \u001b[0mi\u001b[0m \u001b[0;32min\u001b[0m \u001b[0mt\u001b[0m\u001b[0;34m:\u001b[0m\u001b[0;34m\u001b[0m\u001b[0;34m\u001b[0m\u001b[0m\n\u001b[1;32m      6\u001b[0m             \u001b[0mprint\u001b[0m\u001b[0;34m(\u001b[0m\u001b[0mi\u001b[0m\u001b[0;34m.\u001b[0m\u001b[0mtext\u001b[0m\u001b[0;34m.\u001b[0m\u001b[0msplitlines\u001b[0m\u001b[0;34m(\u001b[0m\u001b[0;34m)\u001b[0m\u001b[0;34m[\u001b[0m\u001b[0;36m1\u001b[0m\u001b[0;34m]\u001b[0m\u001b[0;34m)\u001b[0m\u001b[0;34m\u001b[0m\u001b[0;34m\u001b[0m\u001b[0m\n\u001b[0;32m----> 7\u001b[0;31m             \u001b[0mres\u001b[0m\u001b[0;34m.\u001b[0m\u001b[0mappend\u001b[0m\u001b[0;34m(\u001b[0m\u001b[0mi\u001b[0m\u001b[0;34m.\u001b[0m\u001b[0mtext\u001b[0m\u001b[0;34m.\u001b[0m\u001b[0msplitlines\u001b[0m\u001b[0;34m(\u001b[0m\u001b[0;34m)\u001b[0m\u001b[0;34m[\u001b[0m\u001b[0;36m1\u001b[0m\u001b[0;34m]\u001b[0m\u001b[0;34m)\u001b[0m\u001b[0;34m\u001b[0m\u001b[0;34m\u001b[0m\u001b[0m\n\u001b[0m\u001b[1;32m      8\u001b[0m             \u001b[0;31m#print(i.find_element(By.CSS_SELECTOR,'a').get_attribute('href'))\u001b[0m\u001b[0;34m\u001b[0m\u001b[0;34m\u001b[0m\u001b[0m\n\u001b[1;32m      9\u001b[0m         \u001b[0melem\u001b[0m \u001b[0;34m=\u001b[0m \u001b[0mdriver\u001b[0m\u001b[0;34m.\u001b[0m\u001b[0mfind_element\u001b[0m\u001b[0;34m(\u001b[0m\u001b[0mBy\u001b[0m\u001b[0;34m.\u001b[0m\u001b[0mTAG_NAME\u001b[0m\u001b[0;34m,\u001b[0m \u001b[0;34m\"body\"\u001b[0m\u001b[0;34m)\u001b[0m\u001b[0;34m\u001b[0m\u001b[0;34m\u001b[0m\u001b[0m\n",
      "\u001b[0;32m~/opt/anaconda3/lib/python3.9/site-packages/selenium/webdriver/remote/webelement.py\u001b[0m in \u001b[0;36mtext\u001b[0;34m(self)\u001b[0m\n\u001b[1;32m     87\u001b[0m     \u001b[0;32mdef\u001b[0m \u001b[0mtext\u001b[0m\u001b[0;34m(\u001b[0m\u001b[0mself\u001b[0m\u001b[0;34m)\u001b[0m \u001b[0;34m->\u001b[0m \u001b[0mstr\u001b[0m\u001b[0;34m:\u001b[0m\u001b[0;34m\u001b[0m\u001b[0;34m\u001b[0m\u001b[0m\n\u001b[1;32m     88\u001b[0m         \u001b[0;34m\"\"\"The text of the element.\"\"\"\u001b[0m\u001b[0;34m\u001b[0m\u001b[0;34m\u001b[0m\u001b[0m\n\u001b[0;32m---> 89\u001b[0;31m         \u001b[0;32mreturn\u001b[0m \u001b[0mself\u001b[0m\u001b[0;34m.\u001b[0m\u001b[0m_execute\u001b[0m\u001b[0;34m(\u001b[0m\u001b[0mCommand\u001b[0m\u001b[0;34m.\u001b[0m\u001b[0mGET_ELEMENT_TEXT\u001b[0m\u001b[0;34m)\u001b[0m\u001b[0;34m[\u001b[0m\u001b[0;34m\"value\"\u001b[0m\u001b[0;34m]\u001b[0m\u001b[0;34m\u001b[0m\u001b[0;34m\u001b[0m\u001b[0m\n\u001b[0m\u001b[1;32m     90\u001b[0m \u001b[0;34m\u001b[0m\u001b[0m\n\u001b[1;32m     91\u001b[0m     \u001b[0;32mdef\u001b[0m \u001b[0mclick\u001b[0m\u001b[0;34m(\u001b[0m\u001b[0mself\u001b[0m\u001b[0;34m)\u001b[0m \u001b[0;34m->\u001b[0m \u001b[0;32mNone\u001b[0m\u001b[0;34m:\u001b[0m\u001b[0;34m\u001b[0m\u001b[0;34m\u001b[0m\u001b[0m\n",
      "\u001b[0;32m~/opt/anaconda3/lib/python3.9/site-packages/selenium/webdriver/remote/webelement.py\u001b[0m in \u001b[0;36m_execute\u001b[0;34m(self, command, params)\u001b[0m\n\u001b[1;32m    408\u001b[0m             \u001b[0mparams\u001b[0m \u001b[0;34m=\u001b[0m \u001b[0;34m{\u001b[0m\u001b[0;34m}\u001b[0m\u001b[0;34m\u001b[0m\u001b[0;34m\u001b[0m\u001b[0m\n\u001b[1;32m    409\u001b[0m         \u001b[0mparams\u001b[0m\u001b[0;34m[\u001b[0m\u001b[0;34m\"id\"\u001b[0m\u001b[0;34m]\u001b[0m \u001b[0;34m=\u001b[0m \u001b[0mself\u001b[0m\u001b[0;34m.\u001b[0m\u001b[0m_id\u001b[0m\u001b[0;34m\u001b[0m\u001b[0;34m\u001b[0m\u001b[0m\n\u001b[0;32m--> 410\u001b[0;31m         \u001b[0;32mreturn\u001b[0m \u001b[0mself\u001b[0m\u001b[0;34m.\u001b[0m\u001b[0m_parent\u001b[0m\u001b[0;34m.\u001b[0m\u001b[0mexecute\u001b[0m\u001b[0;34m(\u001b[0m\u001b[0mcommand\u001b[0m\u001b[0;34m,\u001b[0m \u001b[0mparams\u001b[0m\u001b[0;34m)\u001b[0m\u001b[0;34m\u001b[0m\u001b[0;34m\u001b[0m\u001b[0m\n\u001b[0m\u001b[1;32m    411\u001b[0m \u001b[0;34m\u001b[0m\u001b[0m\n\u001b[1;32m    412\u001b[0m     \u001b[0;32mdef\u001b[0m \u001b[0mfind_element\u001b[0m\u001b[0;34m(\u001b[0m\u001b[0mself\u001b[0m\u001b[0;34m,\u001b[0m \u001b[0mby\u001b[0m\u001b[0;34m=\u001b[0m\u001b[0mBy\u001b[0m\u001b[0;34m.\u001b[0m\u001b[0mID\u001b[0m\u001b[0;34m,\u001b[0m \u001b[0mvalue\u001b[0m\u001b[0;34m=\u001b[0m\u001b[0;32mNone\u001b[0m\u001b[0;34m)\u001b[0m \u001b[0;34m->\u001b[0m \u001b[0mWebElement\u001b[0m\u001b[0;34m:\u001b[0m\u001b[0;34m\u001b[0m\u001b[0;34m\u001b[0m\u001b[0m\n",
      "\u001b[0;32m~/opt/anaconda3/lib/python3.9/site-packages/selenium/webdriver/remote/webdriver.py\u001b[0m in \u001b[0;36mexecute\u001b[0;34m(self, driver_command, params)\u001b[0m\n\u001b[1;32m    442\u001b[0m         \u001b[0mresponse\u001b[0m \u001b[0;34m=\u001b[0m \u001b[0mself\u001b[0m\u001b[0;34m.\u001b[0m\u001b[0mcommand_executor\u001b[0m\u001b[0;34m.\u001b[0m\u001b[0mexecute\u001b[0m\u001b[0;34m(\u001b[0m\u001b[0mdriver_command\u001b[0m\u001b[0;34m,\u001b[0m \u001b[0mparams\u001b[0m\u001b[0;34m)\u001b[0m\u001b[0;34m\u001b[0m\u001b[0;34m\u001b[0m\u001b[0m\n\u001b[1;32m    443\u001b[0m         \u001b[0;32mif\u001b[0m \u001b[0mresponse\u001b[0m\u001b[0;34m:\u001b[0m\u001b[0;34m\u001b[0m\u001b[0;34m\u001b[0m\u001b[0m\n\u001b[0;32m--> 444\u001b[0;31m             \u001b[0mself\u001b[0m\u001b[0;34m.\u001b[0m\u001b[0merror_handler\u001b[0m\u001b[0;34m.\u001b[0m\u001b[0mcheck_response\u001b[0m\u001b[0;34m(\u001b[0m\u001b[0mresponse\u001b[0m\u001b[0;34m)\u001b[0m\u001b[0;34m\u001b[0m\u001b[0;34m\u001b[0m\u001b[0m\n\u001b[0m\u001b[1;32m    445\u001b[0m             \u001b[0mresponse\u001b[0m\u001b[0;34m[\u001b[0m\u001b[0;34m\"value\"\u001b[0m\u001b[0;34m]\u001b[0m \u001b[0;34m=\u001b[0m \u001b[0mself\u001b[0m\u001b[0;34m.\u001b[0m\u001b[0m_unwrap_value\u001b[0m\u001b[0;34m(\u001b[0m\u001b[0mresponse\u001b[0m\u001b[0;34m.\u001b[0m\u001b[0mget\u001b[0m\u001b[0;34m(\u001b[0m\u001b[0;34m\"value\"\u001b[0m\u001b[0;34m,\u001b[0m \u001b[0;32mNone\u001b[0m\u001b[0;34m)\u001b[0m\u001b[0;34m)\u001b[0m\u001b[0;34m\u001b[0m\u001b[0;34m\u001b[0m\u001b[0m\n\u001b[1;32m    446\u001b[0m             \u001b[0;32mreturn\u001b[0m \u001b[0mresponse\u001b[0m\u001b[0;34m\u001b[0m\u001b[0;34m\u001b[0m\u001b[0m\n",
      "\u001b[0;32m~/opt/anaconda3/lib/python3.9/site-packages/selenium/webdriver/remote/errorhandler.py\u001b[0m in \u001b[0;36mcheck_response\u001b[0;34m(self, response)\u001b[0m\n\u001b[1;32m    247\u001b[0m                 \u001b[0malert_text\u001b[0m \u001b[0;34m=\u001b[0m \u001b[0mvalue\u001b[0m\u001b[0;34m[\u001b[0m\u001b[0;34m\"alert\"\u001b[0m\u001b[0;34m]\u001b[0m\u001b[0;34m.\u001b[0m\u001b[0mget\u001b[0m\u001b[0;34m(\u001b[0m\u001b[0;34m\"text\"\u001b[0m\u001b[0;34m)\u001b[0m\u001b[0;34m\u001b[0m\u001b[0;34m\u001b[0m\u001b[0m\n\u001b[1;32m    248\u001b[0m             \u001b[0;32mraise\u001b[0m \u001b[0mexception_class\u001b[0m\u001b[0;34m(\u001b[0m\u001b[0mmessage\u001b[0m\u001b[0;34m,\u001b[0m \u001b[0mscreen\u001b[0m\u001b[0;34m,\u001b[0m \u001b[0mstacktrace\u001b[0m\u001b[0;34m,\u001b[0m \u001b[0malert_text\u001b[0m\u001b[0;34m)\u001b[0m  \u001b[0;31m# type: ignore[call-arg]  # mypy is not smart enough here\u001b[0m\u001b[0;34m\u001b[0m\u001b[0;34m\u001b[0m\u001b[0m\n\u001b[0;32m--> 249\u001b[0;31m         \u001b[0;32mraise\u001b[0m \u001b[0mexception_class\u001b[0m\u001b[0;34m(\u001b[0m\u001b[0mmessage\u001b[0m\u001b[0;34m,\u001b[0m \u001b[0mscreen\u001b[0m\u001b[0;34m,\u001b[0m \u001b[0mstacktrace\u001b[0m\u001b[0;34m)\u001b[0m\u001b[0;34m\u001b[0m\u001b[0;34m\u001b[0m\u001b[0m\n\u001b[0m",
      "\u001b[0;31mStaleElementReferenceException\u001b[0m: Message: stale element reference: element is not attached to the page document\n  (Session info: chrome=108.0.5359.124)\nStacktrace:\n0   chromedriver                        0x0000000108206f38 chromedriver + 4910904\n1   chromedriver                        0x0000000108186a03 chromedriver + 4385283\n2   chromedriver                        0x0000000107dcb747 chromedriver + 472903\n3   chromedriver                        0x0000000107dcfd28 chromedriver + 490792\n4   chromedriver                        0x0000000107dcf9f6 chromedriver + 489974\n5   chromedriver                        0x0000000107dcfdfc chromedriver + 491004\n6   chromedriver                        0x0000000107e08ba5 chromedriver + 723877\n7   chromedriver                        0x0000000107e36112 chromedriver + 909586\n8   chromedriver                        0x0000000107e020ed chromedriver + 696557\n9   chromedriver                        0x0000000107e362ce chromedriver + 910030\n10  chromedriver                        0x0000000107e5128e chromedriver + 1020558\n11  chromedriver                        0x0000000107e35ee3 chromedriver + 909027\n12  chromedriver                        0x0000000107e0030c chromedriver + 688908\n13  chromedriver                        0x0000000107e0188e chromedriver + 694414\n14  chromedriver                        0x00000001081d41de chromedriver + 4702686\n15  chromedriver                        0x00000001081d8b19 chromedriver + 4721433\n16  chromedriver                        0x00000001081e028e chromedriver + 4752014\n17  chromedriver                        0x00000001081d991a chromedriver + 4725018\n18  chromedriver                        0x00000001081adb02 chromedriver + 4545282\n19  chromedriver                        0x00000001081f8888 chromedriver + 4851848\n20  chromedriver                        0x00000001081f8a05 chromedriver + 4852229\n21  chromedriver                        0x000000010820ee5f chromedriver + 4943455\n22  libsystem_pthread.dylib             0x00007ff8194bf259 _pthread_start + 125\n23  libsystem_pthread.dylib             0x00007ff8194bac7b thread_start + 15\n"
     ]
    }
   ],
   "source": [
    "res = crawl(driver,300)"
   ]
  },
  {
   "cell_type": "code",
   "execution_count": 85,
   "metadata": {},
   "outputs": [
    {
     "data": {
      "text/plain": [
       "852"
      ]
     },
     "execution_count": 85,
     "metadata": {},
     "output_type": "execute_result"
    }
   ],
   "source": [
    "len(res)"
   ]
  },
  {
   "cell_type": "code",
   "execution_count": null,
   "metadata": {},
   "outputs": [],
   "source": []
  }
 ],
 "metadata": {
  "kernelspec": {
   "display_name": "base",
   "language": "python",
   "name": "python3"
  },
  "language_info": {
   "codemirror_mode": {
    "name": "ipython",
    "version": 3
   },
   "file_extension": ".py",
   "mimetype": "text/x-python",
   "name": "python",
   "nbconvert_exporter": "python",
   "pygments_lexer": "ipython3",
   "version": "3.9.13"
  },
  "orig_nbformat": 4,
  "vscode": {
   "interpreter": {
    "hash": "68f3682ca8c377c25da3d8df1d5d8dc03c88f79af835cd0cb48582ebd7d77d5e"
   }
  }
 },
 "nbformat": 4,
 "nbformat_minor": 2
}
